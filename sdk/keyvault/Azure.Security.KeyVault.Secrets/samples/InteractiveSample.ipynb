{
 "cells": [
  {
   "cell_type": "markdown",
   "metadata": {},
   "source": [
    "# Azure Key Vault - Secrets\n",
    "\n",
    "This is an interactive sample for using Azure Key Vault - Secrets.\n",
    "\n",
    "## Getting Started\n",
    "\n",
    "You'll need a few things to get started:\n",
    "\n",
    "* An [Azure subscription](https://azure.microsoft.com/free/dotnet/).\n",
    "* An existing Azure Key Vault. If you need to create an Azure Key Vault, you can use the Azure Portal or [Azure CLI](https://learn.microsoft.com/cli/azure/).\n",
    "\n",
    "For this interactive sample, you'll want to change the values of the following parameter:"
   ]
  },
  {
   "cell_type": "code",
   "execution_count": 1,
   "metadata": {
    "dotnet_interactive": {
     "language": "pwsh"
    },
    "tags": [
     "parameters"
    ],
    "vscode": {
     "languageId": "dotnet-interactive.pwsh"
    }
   },
   "outputs": [],
   "source": [
    "$ResourceLocation = \"westus\";\n",
    "$KeyVaultName = \"mysamplesecrets\";"
   ]
  },
  {
   "cell_type": "markdown",
   "metadata": {},
   "source": [
    "Before you can create the necessary resources, you'll need to first log in using the [Azure CLI](https://learn.microsoft.com/cli/azure/):\n",
    "\n",
    "```powershell\n",
    "az login\n",
    "```\n",
    "\n",
    "Once logged in, you can run the following commands to create a resource group and Key Vault:\n",
    "\n",
    "> ⚠️ The `-o table` parameter displays concise information and is otherwise unnecessary."
   ]
  },
  {
   "cell_type": "code",
   "execution_count": 2,
   "metadata": {
    "dotnet_interactive": {
     "language": "pwsh"
    },
    "vscode": {
     "languageId": "dotnet-interactive.pwsh"
    }
   },
   "outputs": [
    {
     "name": "stdout",
     "output_type": "stream",
     "text": [
      "Location    Name\r\n",
      "----------  ------------------\r\n",
      "westus      mysamplesecrets-rg\r\n",
      "Location    Name             ResourceGroup\r\n",
      "----------  ---------------  ------------------\r\n",
      "westus      mysamplesecrets  mysamplesecrets-rg\r\n"
     ]
    }
   ],
   "source": [
    "\n",
    "az group create --location westus --name \"$KeyVaultName-rg\" -o table\n",
    "az keyvault create --resource-group \"$KeyVaultName-rg\" --name \"$KeyVaultName\" -o table"
   ]
  },
  {
   "cell_type": "markdown",
   "metadata": {},
   "source": [
    "Once you have a Key Vault create and [secured](https://learn.microsoft.com/azure/key-vault/general/rbac-guide), you can create a new `SecretClient` using the vault URI and a [`DefaultAzureCredential`](https://github.com/Azure/azure-sdk-for-net/blob/main/sdk/identity/Azure.Identity/README.md#defaultazurecredential):"
   ]
  },
  {
   "cell_type": "code",
   "execution_count": 3,
   "metadata": {
    "dotnet_interactive": {
     "language": "csharp"
    },
    "vscode": {
     "languageId": "dotnet-interactive.csharp"
    }
   },
   "outputs": [
    {
     "data": {
      "text/html": [
       "<div><div></div><div></div><div><strong>Installed Packages</strong><ul><li><span>Azure.Core, 1.25.0</span></li><li><span>Azure.Identity, 1.7.0</span></li><li><span>Azure.Security.KeyVault.Secrets, 4.4.0</span></li></ul></div></div>"
      ]
     },
     "metadata": {},
     "output_type": "display_data"
    }
   ],
   "source": [
    "#!share KeyVaultName --from powershell\n",
    "#r \"nuget: Azure.Core\"\n",
    "#r \"nuget: Azure.Identity\"\n",
    "#r \"nuget: Azure.Security.KeyVault.Secrets\"\n",
    "\n",
    "using Azure.Identity;\n",
    "using Azure.Security.KeyVault.Secrets;\n",
    "\n",
    "SecretClient client = new SecretClient(new Uri($\"https://{KeyVaultName}.vault.azure.net\"), new DefaultAzureCredential());"
   ]
  },
  {
   "cell_type": "code",
   "execution_count": null,
   "id": "6fc258cb",
   "metadata": {
    "vscode": {
     "languageId": "dotnet-interactive.csharp"
    }
   },
   "outputs": [],
   "source": [
    "#r \"nuget: Azure.Security.KeyVault.Secrets\"\n",
    "\n",
    "using Azure.Identity;\n",
    "using Azure.Security.KeyVault.Secrets;\n",
    "\n",
    "SecretClient client = new SecretClient(new Uri($\"https://{KeyVaultName}.vault.azure.net\"), new DefaultAzureCredential());"
   ]
  },
  {
   "cell_type": "markdown",
   "metadata": {},
   "source": [
    "## Setting Secrets\n",
    "\n",
    "You can set secrets using a name and secret value using any text string. If you a subsequent secret using the same name as an existing a secret, a new version of that secret is created. This is useful for rotating secrets:"
   ]
  },
  {
   "cell_type": "code",
   "execution_count": 4,
   "metadata": {
    "dotnet_interactive": {
     "language": "csharp"
    },
    "vscode": {
     "languageId": "dotnet-interactive.csharp"
    }
   },
   "outputs": [
    {
     "name": "stdout",
     "output_type": "stream",
     "text": [
      "secret-name (7e3248bda3c74f7ea43b678fbdbbf577) = secret value\r\n",
      "secret-name (f219f3ab6607421694eb354a695ba40f) = new secret value\r\n"
     ]
    }
   ],
   "source": [
    "KeyVaultSecret secret = client.SetSecret(\"secret-name\", \"secret value\");\n",
    "Console.WriteLine($\"{secret.Name} ({secret.Properties.Version}) = {secret.Value}\");\n",
    "\n",
    "secret = client.SetSecret(\"secret-name\", \"new secret value\");\n",
    "Console.WriteLine($\"{secret.Name} ({secret.Properties.Version}) = {secret.Value}\");"
   ]
  }
 ],
 "metadata": {
  "kernelspec": {
   "display_name": ".NET (C#)",
   "language": "C#",
   "name": ".net-csharp"
  },
  "language_info": {
   "file_extension": ".cs",
   "mimetype": "text/x-csharp",
   "name": "C#",
   "pygments_lexer": "csharp",
   "version": "9.0"
  }
 },
 "nbformat": 4,
 "nbformat_minor": 5
}
